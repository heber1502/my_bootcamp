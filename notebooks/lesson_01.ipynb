{
 "cells": [
  {
   "cell_type": "code",
   "execution_count": null,
   "metadata": {},
   "outputs": [],
   "source": [
    "#datatypes \n",
    "contador = 3\n",
    "numero_pi = 3.14159\n",
    "cadena = \"Python es lo maximo\"\n",
    "flag = True"
   ]
  },
  {
   "cell_type": "code",
   "execution_count": null,
   "metadata": {},
   "outputs": [],
   "source": [
    "#datatypes with typing\n",
    "contador:int = 3\n",
    "numero_pi:float = 3.14159\n",
    "cadena:str = \"Python es lo maximo\"\n",
    "flag:bool = True"
   ]
  },
  {
   "cell_type": "code",
   "execution_count": 1,
   "metadata": {},
   "outputs": [
    {
     "name": "stdout",
     "output_type": "stream",
     "text": [
      "True\n",
      "True\n",
      "True\n"
     ]
    }
   ],
   "source": [
    "#logical operator \n",
    "print(True and True) \n",
    "print(True or False) \n",
    "print(not False) "
   ]
  },
  {
   "cell_type": "code",
   "execution_count": 4,
   "metadata": {},
   "outputs": [
    {
     "name": "stdout",
     "output_type": "stream",
     "text": [
      "5\n",
      "80\n",
      "3.0\n",
      "3\n",
      "1\n",
      "4\n"
     ]
    }
   ],
   "source": [
    "#Aritmetic operator\n",
    "print(3+2) #suma\n",
    "print(10*8) #Multiplicacion\n",
    "print(24/8) #Division\n",
    "print(10-7) #resta \n",
    "print(9%2) #Modulo es el restante de la division\n",
    "print(9//2) #Division entera, no coloca el decimal."
   ]
  },
  {
   "cell_type": "code",
   "execution_count": 5,
   "metadata": {},
   "outputs": [],
   "source": [
    "#Collection\n",
    "\n",
    "my_list = [1,2,3,4] #Es una coleccion ordenada inmutable\n",
    "my_tuple = (\"fish\", \"Chips\") #Es una coleccion ordenada no mutable\n",
    "my_set = {\"a\",\"b\",\"c\"}#Es una coleccion no ordenada mutable solo cuando se saca o mete valores,sin repeticiones\n",
    "my_dict = {\"name\":\"Peter\", \"last_name\":\"Smith\"} #Es una coleccion llave valor"
   ]
  },
  {
   "cell_type": "code",
   "execution_count": 12,
   "metadata": {},
   "outputs": [
    {
     "data": {
      "text/plain": [
       "{'name': 'Soledad', 'last_name': 'Rios'}"
      ]
     },
     "execution_count": 12,
     "metadata": {},
     "output_type": "execute_result"
    }
   ],
   "source": [
    "my_list[3]\n",
    "my_list[3] = 5\n",
    "my_list\n",
    "\n",
    "my_tuple[1]\n",
    "my_tuple\n",
    "\n",
    "\n",
    "\n",
    "my_second_set = {\"x\",\"y\",\"z\",\"x\"}\n",
    "my_second_set\n",
    "\n",
    "my_dict[\"last_name\"]\n",
    "\n",
    "my_second_dict = {\"name\": \"Maria\", \"name\":\"Soledad\", \"last_name\":\"Rios\"}\n",
    "my_second_dict\n"
   ]
  },
  {
   "cell_type": "code",
   "execution_count": 14,
   "metadata": {},
   "outputs": [
    {
     "name": "stdout",
     "output_type": "stream",
     "text": [
      "10 NO es menor\n",
      "El equipo A ganó\n"
     ]
    }
   ],
   "source": [
    "#Las tres estructuras de control: sequence, selection, iteration(Este es el teorema de Bohm Jacopini)\n",
    "if 10 < 4:\n",
    "    print(\"10 es menor\")\n",
    "else:\n",
    "    print(\"10 NO es menor\")\n",
    "score_team_a = 3\n",
    "score_team_b = 1 \n",
    "\n",
    "if score_team_a < score_team_b:\n",
    "    print(\"El equipo A perdio\")\n",
    "elif score_team_a > score_team_b:\n",
    "    print(\"El equipo A ganó\")\n",
    "else:\n",
    "    print(\"Fue empate.\")\n",
    "    \n"
   ]
  },
  {
   "cell_type": "code",
   "execution_count": 16,
   "metadata": {},
   "outputs": [
    {
     "name": "stdout",
     "output_type": "stream",
     "text": [
      "7\n",
      "10\n",
      "5\n",
      "0\n",
      "4\n",
      "3\n",
      "2\n",
      "1\n"
     ]
    }
   ],
   "source": [
    "my_second_list = [7,10,5,0]\n",
    "\n",
    "for i in my_second_list:\n",
    "    print(i)\n",
    "\n",
    "my_number = 4\n",
    "while my_number > 0:\n",
    "    print(my_number)\n",
    "    my_number -= 1"
   ]
  },
  {
   "cell_type": "code",
   "execution_count": 17,
   "metadata": {},
   "outputs": [],
   "source": [
    "import numpy as np\n"
   ]
  },
  {
   "cell_type": "code",
   "execution_count": 18,
   "metadata": {},
   "outputs": [
    {
     "data": {
      "text/plain": [
       "array([6, 7, 8, 9])"
      ]
     },
     "execution_count": 18,
     "metadata": {},
     "output_type": "execute_result"
    }
   ],
   "source": [
    "my_vector = np.array([6,7,8,9])\n",
    "my_vector"
   ]
  },
  {
   "cell_type": "code",
   "execution_count": 21,
   "metadata": {},
   "outputs": [
    {
     "name": "stdout",
     "output_type": "stream",
     "text": [
      "[[6 7]\n",
      " [8 9]]\n",
      "(2, 2)\n"
     ]
    }
   ],
   "source": [
    "my_vector.shape\n",
    "\n",
    "my_matrix = np.array([[6,7], [8,9]])\n",
    "print(my_matrix)\n",
    "print(my_matrix.shape)"
   ]
  }
 ],
 "metadata": {
  "kernelspec": {
   "display_name": ".venv",
   "language": "python",
   "name": "python3"
  },
  "language_info": {
   "codemirror_mode": {
    "name": "ipython",
    "version": 3
   },
   "file_extension": ".py",
   "mimetype": "text/x-python",
   "name": "python",
   "nbconvert_exporter": "python",
   "pygments_lexer": "ipython3",
   "version": "3.12.1"
  }
 },
 "nbformat": 4,
 "nbformat_minor": 2
}
